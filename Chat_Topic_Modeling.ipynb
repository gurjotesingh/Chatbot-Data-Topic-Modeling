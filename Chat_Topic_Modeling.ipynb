{
  "nbformat": 4,
  "nbformat_minor": 0,
  "metadata": {
    "colab": {
      "name": "Chat Topic Modeling.ipynb",
      "provenance": []
    },
    "kernelspec": {
      "name": "python3",
      "display_name": "Python 3"
    },
    "language_info": {
      "name": "python"
    }
  },
  "cells": [
    {
      "cell_type": "code",
      "metadata": {
        "id": "auR_ZSg3o_QE"
      },
      "source": [
        "import pandas as pd\n",
        "import numpy as np\n",
        "from sklearn.feature_extraction.text import CountVectorizer\n",
        "import nltk\n",
        "import re\n",
        "from sklearn.model_selection import train_test_split\n",
        "from nltk.stem.porter import PorterStemmer\n",
        "from nltk.corpus import stopwords\n",
        "from string import digits,punctuation\n",
        "from sklearn.decomposition import LatentDirichletAllocation"
      ],
      "execution_count": 69,
      "outputs": []
    },
    {
      "cell_type": "code",
      "metadata": {
        "id": "nR_DRUn7pl-g"
      },
      "source": [
        "nltk.download()"
      ],
      "execution_count": null,
      "outputs": []
    },
    {
      "cell_type": "code",
      "metadata": {
        "colab": {
          "base_uri": "https://localhost:8080/"
        },
        "id": "jhlh-47uqgEy",
        "outputId": "8a863af2-4957-4afd-be6e-eb2e597d9961"
      },
      "source": [
        "nltk.download('stopwords')"
      ],
      "execution_count": 12,
      "outputs": [
        {
          "output_type": "stream",
          "text": [
            "[nltk_data] Downloading package stopwords to /root/nltk_data...\n",
            "[nltk_data]   Package stopwords is already up-to-date!\n"
          ],
          "name": "stdout"
        },
        {
          "output_type": "execute_result",
          "data": {
            "text/plain": [
              "True"
            ]
          },
          "metadata": {
            "tags": []
          },
          "execution_count": 12
        }
      ]
    },
    {
      "cell_type": "code",
      "metadata": {
        "id": "NzFWuHucq0tx"
      },
      "source": [
        "df=pd.read_csv('Chats.csv')"
      ],
      "execution_count": 13,
      "outputs": []
    },
    {
      "cell_type": "code",
      "metadata": {
        "colab": {
          "base_uri": "https://localhost:8080/",
          "height": 360
        },
        "id": "gj35pNu5rAug",
        "outputId": "4d74cea0-772b-4553-e025-0cb06bbfa184"
      },
      "source": [
        "pd.set_option('Max_colwidth',-1)\n",
        "df.head()"
      ],
      "execution_count": 16,
      "outputs": [
        {
          "output_type": "stream",
          "text": [
            "/usr/local/lib/python3.7/dist-packages/ipykernel_launcher.py:1: FutureWarning: Passing a negative integer is deprecated in version 1.0 and will not be supported in future version. Instead, use None to not limit the column width.\n",
            "  \"\"\"Entry point for launching an IPython kernel.\n"
          ],
          "name": "stderr"
        },
        {
          "output_type": "execute_result",
          "data": {
            "text/html": [
              "<div>\n",
              "<style scoped>\n",
              "    .dataframe tbody tr th:only-of-type {\n",
              "        vertical-align: middle;\n",
              "    }\n",
              "\n",
              "    .dataframe tbody tr th {\n",
              "        vertical-align: top;\n",
              "    }\n",
              "\n",
              "    .dataframe thead th {\n",
              "        text-align: right;\n",
              "    }\n",
              "</style>\n",
              "<table border=\"1\" class=\"dataframe\">\n",
              "  <thead>\n",
              "    <tr style=\"text-align: right;\">\n",
              "      <th></th>\n",
              "      <th>Unnamed: 0</th>\n",
              "      <th>Text</th>\n",
              "      <th>Clean</th>\n",
              "    </tr>\n",
              "  </thead>\n",
              "  <tbody>\n",
              "    <tr>\n",
              "      <th>0</th>\n",
              "      <td>0</td>\n",
              "      <td>What advantage is there in booking directly with an airline rather than through an agent? I have almost always booked with the airline but now have an agent whose price is around $50 cheaper than airline and airline does not have price match.</td>\n",
              "      <td>NaN</td>\n",
              "    </tr>\n",
              "    <tr>\n",
              "      <th>1</th>\n",
              "      <td>1</td>\n",
              "      <td>Hi, Could someone please confirm if CX 884 - HKG-LAX business class seats are truly lie flat seats? The aircraft code shows 773, travel agent says they are lie flat but Seatguru shows them as recliners. Help is appreciated. Cheers</td>\n",
              "      <td>NaN</td>\n",
              "    </tr>\n",
              "    <tr>\n",
              "      <th>2</th>\n",
              "      <td>2</td>\n",
              "      <td>I will be transiting Dubai soon en route to Oz. Never flown anywhere via Dubai before so am a bit wary about alcohol......not drinking it but having it in hand luggage. If I buy a bottle after security screening at LHR will it be a problem at any screening at Dubai before my connecting flight? It is a special gift requested by a friend in Oz.....but don't want to give myself any bother at airports...they are stressful enough places. Any advice?</td>\n",
              "      <td>NaN</td>\n",
              "    </tr>\n",
              "    <tr>\n",
              "      <th>3</th>\n",
              "      <td>3</td>\n",
              "      <td>Does anyone know where I'd find estimated prices from Atlanta. My vacation destination is up in the air at this point and I'm flexible so I'd like to find a listing of places that are cheap to fly. Mexico, carribean, central american are all good choices. Thanks in advance.</td>\n",
              "      <td>NaN</td>\n",
              "    </tr>\n",
              "    <tr>\n",
              "      <th>4</th>\n",
              "      <td>4</td>\n",
              "      <td>It's from BA and finds the cheapest BA flight on a route britishairways.com/travel/…en_gb</td>\n",
              "      <td>NaN</td>\n",
              "    </tr>\n",
              "  </tbody>\n",
              "</table>\n",
              "</div>"
            ],
            "text/plain": [
              "   Unnamed: 0  ... Clean\n",
              "0  0           ... NaN  \n",
              "1  1           ... NaN  \n",
              "2  2           ... NaN  \n",
              "3  3           ... NaN  \n",
              "4  4           ... NaN  \n",
              "\n",
              "[5 rows x 3 columns]"
            ]
          },
          "metadata": {
            "tags": []
          },
          "execution_count": 16
        }
      ]
    },
    {
      "cell_type": "code",
      "metadata": {
        "colab": {
          "base_uri": "https://localhost:8080/"
        },
        "id": "aLmw4Y2OrNTP",
        "outputId": "5d8ec515-db24-488a-97ad-ecc6a8cd09de"
      },
      "source": [
        "df.Text.isnull().sum()"
      ],
      "execution_count": 20,
      "outputs": [
        {
          "output_type": "execute_result",
          "data": {
            "text/plain": [
              "155"
            ]
          },
          "metadata": {
            "tags": []
          },
          "execution_count": 20
        }
      ]
    },
    {
      "cell_type": "code",
      "metadata": {
        "colab": {
          "base_uri": "https://localhost:8080/"
        },
        "id": "5DEAHFU-rmyL",
        "outputId": "b3fb1f21-552e-4814-ab96-e8c5e8e0c2fe"
      },
      "source": [
        "df.Text[df.Text.isnull()]"
      ],
      "execution_count": 21,
      "outputs": [
        {
          "output_type": "execute_result",
          "data": {
            "text/plain": [
              "1947     NaN\n",
              "1948     NaN\n",
              "1949     NaN\n",
              "1950     NaN\n",
              "1951     NaN\n",
              "        ... \n",
              "78483    NaN\n",
              "78484    NaN\n",
              "78485    NaN\n",
              "78486    NaN\n",
              "78487    NaN\n",
              "Name: Text, Length: 155, dtype: object"
            ]
          },
          "metadata": {
            "tags": []
          },
          "execution_count": 21
        }
      ]
    },
    {
      "cell_type": "code",
      "metadata": {
        "id": "0_Q70_wsryuD"
      },
      "source": [
        "rows_to_remove=[row for row in range(len(df)) if df.iloc[row].isnull()['Text']==True]\n",
        "len(rows_to_remove)"
      ],
      "execution_count": null,
      "outputs": []
    },
    {
      "cell_type": "code",
      "metadata": {
        "id": "ubemL4sKr9VU"
      },
      "source": [
        "df.drop(rows_to_remove,axis=0,inplace=True)"
      ],
      "execution_count": 44,
      "outputs": []
    },
    {
      "cell_type": "code",
      "metadata": {
        "id": "W0CmzAYCsQ2F"
      },
      "source": [
        "X_train,X_test=train_test_split(df, test_size=0.4, random_state=0)"
      ],
      "execution_count": 46,
      "outputs": []
    },
    {
      "cell_type": "code",
      "metadata": {
        "colab": {
          "base_uri": "https://localhost:8080/"
        },
        "id": "9i70IzOTtelx",
        "outputId": "38b2f7d7-7924-40a6-c01b-ed58bc3ad217"
      },
      "source": [
        "X_train.drop('Unnamed: 0',axis=1,inplace=True)"
      ],
      "execution_count": 52,
      "outputs": [
        {
          "output_type": "stream",
          "text": [
            "/usr/local/lib/python3.7/dist-packages/pandas/core/frame.py:4174: SettingWithCopyWarning: \n",
            "A value is trying to be set on a copy of a slice from a DataFrame\n",
            "\n",
            "See the caveats in the documentation: https://pandas.pydata.org/pandas-docs/stable/user_guide/indexing.html#returning-a-view-versus-a-copy\n",
            "  errors=errors,\n"
          ],
          "name": "stderr"
        }
      ]
    },
    {
      "cell_type": "code",
      "metadata": {
        "id": "SHzioT0huC-P"
      },
      "source": [
        "X_train.set_index(pd.Index(range(X_train.shape[0])),inplace=True)\n"
      ],
      "execution_count": 57,
      "outputs": []
    },
    {
      "cell_type": "code",
      "metadata": {
        "id": "EgwLEAeRubog"
      },
      "source": [
        "stemmer=PorterStemmer()\n",
        "remove_digits = str.maketrans('', '', digits)\n",
        "\n",
        "def tokenizer(text):\n",
        "    text=text.translate(remove_digits)\n",
        "    text=text.lower()\n",
        "    text=re.sub(r\"[^\\w\\s]\",' ',text)\n",
        "    token=nltk.word_tokenize(text)\n",
        "    words=[stemmer.stem(word) for word in token if not word in stopwords.words('english') and not word in punctuation and not word in ['cname','name']]\n",
        "    return (words)"
      ],
      "execution_count": 87,
      "outputs": []
    },
    {
      "cell_type": "code",
      "metadata": {
        "id": "pe6Io7WrvbHv"
      },
      "source": [
        "vectorizer=CountVectorizer(tokenizer=tokenizer,max_features=10000)\n",
        "vectors=vectorizer.fit_transform(X_train.Text)"
      ],
      "execution_count": 88,
      "outputs": []
    },
    {
      "cell_type": "code",
      "metadata": {
        "colab": {
          "base_uri": "https://localhost:8080/"
        },
        "id": "-TavuUMYxALa",
        "outputId": "e1dff085-1b07-43d2-8bf4-487ea41e9105"
      },
      "source": [
        "vectors.A"
      ],
      "execution_count": 89,
      "outputs": [
        {
          "output_type": "execute_result",
          "data": {
            "text/plain": [
              "array([[0, 0, 0, ..., 0, 0, 0],\n",
              "       [0, 0, 0, ..., 0, 0, 0],\n",
              "       [0, 0, 0, ..., 0, 0, 0],\n",
              "       ...,\n",
              "       [0, 0, 0, ..., 0, 0, 0],\n",
              "       [0, 0, 0, ..., 0, 0, 0],\n",
              "       [0, 0, 0, ..., 0, 0, 0]])"
            ]
          },
          "metadata": {
            "tags": []
          },
          "execution_count": 89
        }
      ]
    },
    {
      "cell_type": "code",
      "metadata": {
        "id": "9umCOtt9xipM"
      },
      "source": [
        "lda=LatentDirichletAllocation(n_components=8,max_iter=3,learning_method='online',n_jobs=-1,random_state=0)"
      ],
      "execution_count": 90,
      "outputs": []
    },
    {
      "cell_type": "code",
      "metadata": {
        "id": "yCO8RNtZxzza"
      },
      "source": [
        "W1=lda.fit_transform(vectors)\n",
        "H1=lda.components_"
      ],
      "execution_count": 91,
      "outputs": []
    },
    {
      "cell_type": "code",
      "metadata": {
        "colab": {
          "base_uri": "https://localhost:8080/"
        },
        "id": "tKNW_Jw_ywGp",
        "outputId": "303d1e45-6f3e-4132-bf9e-82fb3b41fd44"
      },
      "source": [
        "W1"
      ],
      "execution_count": 92,
      "outputs": [
        {
          "output_type": "execute_result",
          "data": {
            "text/plain": [
              "array([[0.13312571, 0.1106428 , 0.00695191, ..., 0.00694514, 0.36135819,\n",
              "        0.36707212],\n",
              "       [0.00595426, 0.00595455, 0.00596421, ..., 0.00595434, 0.9583071 ,\n",
              "        0.00595306],\n",
              "       [0.78119121, 0.03125748, 0.03125345, ..., 0.03125   , 0.03127098,\n",
              "        0.03127688],\n",
              "       ...,\n",
              "       [0.44293666, 0.01787636, 0.01786692, ..., 0.01786026, 0.01786375,\n",
              "        0.01786775],\n",
              "       [0.69580787, 0.01250155, 0.12110144, ..., 0.01252176, 0.01251989,\n",
              "        0.12054355],\n",
              "       [0.00961952, 0.22442158, 0.38498803, ..., 0.23739873, 0.00962778,\n",
              "        0.0096242 ]])"
            ]
          },
          "metadata": {
            "tags": []
          },
          "execution_count": 92
        }
      ]
    },
    {
      "cell_type": "code",
      "metadata": {
        "colab": {
          "base_uri": "https://localhost:8080/"
        },
        "id": "WAnlvskizLuQ",
        "outputId": "c0cd0570-08ba-492d-e46a-146d2f52dee1"
      },
      "source": [
        "H1"
      ],
      "execution_count": 93,
      "outputs": [
        {
          "output_type": "execute_result",
          "data": {
            "text/plain": [
              "array([[1.25000003e-01, 1.25057516e-01, 1.25131784e-01, ...,\n",
              "        1.25000017e-01, 1.25042474e-01, 1.25016772e-01],\n",
              "       [1.25000004e-01, 1.25098518e-01, 1.25083241e-01, ...,\n",
              "        1.25000021e-01, 1.41763739e+02, 1.25029732e-01],\n",
              "       [1.25110398e-01, 4.38501282e+02, 1.25144237e-01, ...,\n",
              "        1.25000009e-01, 1.27263025e-01, 1.25007784e-01],\n",
              "       ...,\n",
              "       [5.81940577e+00, 1.25191315e-01, 1.25039382e-01, ...,\n",
              "        1.25000020e-01, 1.25026445e-01, 6.93235416e+00],\n",
              "       [1.25000002e-01, 1.25218442e-01, 1.25007228e-01, ...,\n",
              "        1.25000009e-01, 1.25136209e-01, 1.25442096e-01],\n",
              "       [1.25000003e-01, 1.25062742e-01, 1.79376436e+02, ...,\n",
              "        5.07027236e+00, 1.25024619e-01, 1.25000137e-01]])"
            ]
          },
          "metadata": {
            "tags": []
          },
          "execution_count": 93
        }
      ]
    },
    {
      "cell_type": "code",
      "metadata": {
        "id": "DWBPOjkWzQbJ"
      },
      "source": [
        "vectorizer.get_feature_names()"
      ],
      "execution_count": null,
      "outputs": []
    },
    {
      "cell_type": "code",
      "metadata": {
        "id": "BOqUlIO-zhlC"
      },
      "source": [
        "top=10\n",
        "vocab=np.array(vectorizer.get_feature_names())\n",
        "top_words=lambda t: [vocab[i] for i in np.argsort(t)[:-top-1:-1]]\n",
        "topic_words=[top_words(t) for t in H1]\n",
        "topic=[\",\".join(t) for t in topic_words]"
      ],
      "execution_count": 95,
      "outputs": []
    },
    {
      "cell_type": "code",
      "metadata": {
        "colab": {
          "base_uri": "https://localhost:8080/"
        },
        "id": "utMLf-7e3LDi",
        "outputId": "b99e1996-f749-4f42-e41e-327f90a89d7b"
      },
      "source": [
        "topic"
      ],
      "execution_count": 96,
      "outputs": [
        {
          "output_type": "execute_result",
          "data": {
            "text/plain": [
              "['train,need,ticket,station,trip,leav,mile,mileag,plan,award',\n",
              " 'servic,would,bill,internet,tv,like,go,custom,cost,pay',\n",
              " 'seat,flight,book,airlin,fli,travel,thank,go,would,one',\n",
              " 'email,account,get,tri,purchas,number,ticket,sign,password,work',\n",
              " 'travel,still,address,problem,year,buy,abl,passport,use,date',\n",
              " 'see,passeng,ask,thing,time,left,com,trip,need,order',\n",
              " 'flight,check,time,hour,fli,would,airport,thank,week,bag',\n",
              " 'chang,reserv,ticket,pay,card,credit,flight,book,number,cancel']"
            ]
          },
          "metadata": {
            "tags": []
          },
          "execution_count": 96
        }
      ]
    },
    {
      "cell_type": "code",
      "metadata": {
        "id": "vmGs9Ocu3QVP"
      },
      "source": [
        "colnames=[\"Topic \"+str(i) for i in range(lda.n_components)]\n",
        "docs=[\"Doc\"+str(i) for i in range(len(X_train.Text))]"
      ],
      "execution_count": 97,
      "outputs": []
    },
    {
      "cell_type": "code",
      "metadata": {
        "id": "zxRgw6tJ7VjP"
      },
      "source": [
        "df_topic=pd.DataFrame(np.round(W1,2),columns=colnames,index=docs)\n",
        "main_topic=np.argmax(df_topic.values,axis=1)\n",
        "df_topic['Main Topic']=main_topic\n"
      ],
      "execution_count": 113,
      "outputs": []
    },
    {
      "cell_type": "code",
      "metadata": {
        "colab": {
          "base_uri": "https://localhost:8080/",
          "height": 419
        },
        "id": "duN4MavxBrht",
        "outputId": "03523be1-314d-4448-8137-512735a58372"
      },
      "source": [
        "df_topic"
      ],
      "execution_count": 110,
      "outputs": [
        {
          "output_type": "execute_result",
          "data": {
            "text/html": [
              "<div>\n",
              "<style scoped>\n",
              "    .dataframe tbody tr th:only-of-type {\n",
              "        vertical-align: middle;\n",
              "    }\n",
              "\n",
              "    .dataframe tbody tr th {\n",
              "        vertical-align: top;\n",
              "    }\n",
              "\n",
              "    .dataframe thead th {\n",
              "        text-align: right;\n",
              "    }\n",
              "</style>\n",
              "<table border=\"1\" class=\"dataframe\">\n",
              "  <thead>\n",
              "    <tr style=\"text-align: right;\">\n",
              "      <th></th>\n",
              "      <th>Topic 0</th>\n",
              "      <th>Topic 1</th>\n",
              "      <th>Topic 2</th>\n",
              "      <th>Topic 3</th>\n",
              "      <th>Topic 4</th>\n",
              "      <th>Topic 5</th>\n",
              "      <th>Topic 6</th>\n",
              "      <th>Topic 7</th>\n",
              "      <th>Main Topic</th>\n",
              "    </tr>\n",
              "  </thead>\n",
              "  <tbody>\n",
              "    <tr>\n",
              "      <th>Doc0</th>\n",
              "      <td>0.13</td>\n",
              "      <td>0.11</td>\n",
              "      <td>0.01</td>\n",
              "      <td>0.01</td>\n",
              "      <td>0.01</td>\n",
              "      <td>0.01</td>\n",
              "      <td>0.36</td>\n",
              "      <td>0.37</td>\n",
              "      <td>7</td>\n",
              "    </tr>\n",
              "    <tr>\n",
              "      <th>Doc1</th>\n",
              "      <td>0.01</td>\n",
              "      <td>0.01</td>\n",
              "      <td>0.01</td>\n",
              "      <td>0.01</td>\n",
              "      <td>0.01</td>\n",
              "      <td>0.01</td>\n",
              "      <td>0.96</td>\n",
              "      <td>0.01</td>\n",
              "      <td>6</td>\n",
              "    </tr>\n",
              "    <tr>\n",
              "      <th>Doc2</th>\n",
              "      <td>0.78</td>\n",
              "      <td>0.03</td>\n",
              "      <td>0.03</td>\n",
              "      <td>0.03</td>\n",
              "      <td>0.03</td>\n",
              "      <td>0.03</td>\n",
              "      <td>0.03</td>\n",
              "      <td>0.03</td>\n",
              "      <td>0</td>\n",
              "    </tr>\n",
              "    <tr>\n",
              "      <th>Doc3</th>\n",
              "      <td>0.02</td>\n",
              "      <td>0.87</td>\n",
              "      <td>0.02</td>\n",
              "      <td>0.02</td>\n",
              "      <td>0.02</td>\n",
              "      <td>0.02</td>\n",
              "      <td>0.02</td>\n",
              "      <td>0.02</td>\n",
              "      <td>1</td>\n",
              "    </tr>\n",
              "    <tr>\n",
              "      <th>Doc4</th>\n",
              "      <td>0.01</td>\n",
              "      <td>0.01</td>\n",
              "      <td>0.94</td>\n",
              "      <td>0.01</td>\n",
              "      <td>0.01</td>\n",
              "      <td>0.01</td>\n",
              "      <td>0.01</td>\n",
              "      <td>0.01</td>\n",
              "      <td>2</td>\n",
              "    </tr>\n",
              "    <tr>\n",
              "      <th>...</th>\n",
              "      <td>...</td>\n",
              "      <td>...</td>\n",
              "      <td>...</td>\n",
              "      <td>...</td>\n",
              "      <td>...</td>\n",
              "      <td>...</td>\n",
              "      <td>...</td>\n",
              "      <td>...</td>\n",
              "      <td>...</td>\n",
              "    </tr>\n",
              "    <tr>\n",
              "      <th>Doc48659</th>\n",
              "      <td>0.00</td>\n",
              "      <td>0.27</td>\n",
              "      <td>0.00</td>\n",
              "      <td>0.00</td>\n",
              "      <td>0.00</td>\n",
              "      <td>0.28</td>\n",
              "      <td>0.06</td>\n",
              "      <td>0.37</td>\n",
              "      <td>7</td>\n",
              "    </tr>\n",
              "    <tr>\n",
              "      <th>Doc48660</th>\n",
              "      <td>0.02</td>\n",
              "      <td>0.02</td>\n",
              "      <td>0.02</td>\n",
              "      <td>0.89</td>\n",
              "      <td>0.02</td>\n",
              "      <td>0.02</td>\n",
              "      <td>0.02</td>\n",
              "      <td>0.02</td>\n",
              "      <td>3</td>\n",
              "    </tr>\n",
              "    <tr>\n",
              "      <th>Doc48661</th>\n",
              "      <td>0.44</td>\n",
              "      <td>0.02</td>\n",
              "      <td>0.02</td>\n",
              "      <td>0.02</td>\n",
              "      <td>0.45</td>\n",
              "      <td>0.02</td>\n",
              "      <td>0.02</td>\n",
              "      <td>0.02</td>\n",
              "      <td>4</td>\n",
              "    </tr>\n",
              "    <tr>\n",
              "      <th>Doc48662</th>\n",
              "      <td>0.70</td>\n",
              "      <td>0.01</td>\n",
              "      <td>0.12</td>\n",
              "      <td>0.01</td>\n",
              "      <td>0.01</td>\n",
              "      <td>0.01</td>\n",
              "      <td>0.01</td>\n",
              "      <td>0.12</td>\n",
              "      <td>0</td>\n",
              "    </tr>\n",
              "    <tr>\n",
              "      <th>Doc48663</th>\n",
              "      <td>0.01</td>\n",
              "      <td>0.22</td>\n",
              "      <td>0.38</td>\n",
              "      <td>0.11</td>\n",
              "      <td>0.01</td>\n",
              "      <td>0.24</td>\n",
              "      <td>0.01</td>\n",
              "      <td>0.01</td>\n",
              "      <td>2</td>\n",
              "    </tr>\n",
              "  </tbody>\n",
              "</table>\n",
              "<p>48664 rows × 9 columns</p>\n",
              "</div>"
            ],
            "text/plain": [
              "          Topic 0  Topic 1  Topic 2  ...  Topic 6  Topic 7  Main Topic\n",
              "Doc0      0.13     0.11     0.01     ...  0.36     0.37     7         \n",
              "Doc1      0.01     0.01     0.01     ...  0.96     0.01     6         \n",
              "Doc2      0.78     0.03     0.03     ...  0.03     0.03     0         \n",
              "Doc3      0.02     0.87     0.02     ...  0.02     0.02     1         \n",
              "Doc4      0.01     0.01     0.94     ...  0.01     0.01     2         \n",
              "...        ...      ...      ...     ...   ...      ...    ..         \n",
              "Doc48659  0.00     0.27     0.00     ...  0.06     0.37     7         \n",
              "Doc48660  0.02     0.02     0.02     ...  0.02     0.02     3         \n",
              "Doc48661  0.44     0.02     0.02     ...  0.02     0.02     4         \n",
              "Doc48662  0.70     0.01     0.12     ...  0.01     0.12     0         \n",
              "Doc48663  0.01     0.22     0.38     ...  0.01     0.01     2         \n",
              "\n",
              "[48664 rows x 9 columns]"
            ]
          },
          "metadata": {
            "tags": []
          },
          "execution_count": 110
        }
      ]
    },
    {
      "cell_type": "code",
      "metadata": {
        "id": "0cAKxmkKHg5G"
      },
      "source": [
        ""
      ],
      "execution_count": null,
      "outputs": []
    }
  ]
}